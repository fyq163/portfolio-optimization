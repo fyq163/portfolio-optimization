{
 "cells": [
  {
   "cell_type": "code",
   "execution_count": 1,
   "metadata": {
    "collapsed": true,
    "pycharm": {
     "name": "#%%\n"
    }
   },
   "outputs": [],
   "source": [
    "import pandas as pd\n",
    "from math import sqrt\n",
    "from iLab_optimizer import *\n",
    "#"
   ]
  },
  {
   "cell_type": "code",
   "execution_count": 2,
   "outputs": [],
   "source": [
    "data_path = 'data/iLab2 assessment Data pool 2023 Term1.csv'\n",
    "raw_data = pd.read_csv(data_path,index_col=0,parse_dates=True).apply(lambda x:x/100)\n",
    "new_col = []\n",
    "for s in raw_data.columns:\n",
    "    result = s.split('(')[1].split(')')[0]\n",
    "    new_col.append(result)\n",
    "raw_data.columns=new_col\n",
    "SP50_return = raw_data.loc[:,'SP50']\n",
    "raw_data = raw_data.drop('SP50',axis=1,)\n",
    "rf=0.03\n"
   ],
   "metadata": {
    "collapsed": false,
    "pycharm": {
     "name": "#%%\n"
    }
   }
  },
  {
   "cell_type": "code",
   "execution_count": 3,
   "outputs": [],
   "source": [
    "target_list = ['C-US', 'GOOGL-US', 'INTC-US', 'NVDA-US', 'EBAY-US', 'HD-US', 'IBM-US', 'JPM-US', 'WMT-US', 'CVX-US']\n",
    "washed_df = raw_data.loc[:,target_list]\n",
    "mean_list_annual ,var_annual,annual_std = get_annual_mean_var_std(df=washed_df)\n",
    "covariance_matrix = washed_df.cov()"
   ],
   "metadata": {
    "collapsed": false,
    "pycharm": {
     "name": "#%%\n"
    }
   }
  },
  {
   "cell_type": "markdown",
   "source": [],
   "metadata": {
    "collapsed": false,
    "pycharm": {
     "name": "#%% md\n"
    }
   }
  },
  {
   "cell_type": "code",
   "execution_count": 4,
   "outputs": [
    {
     "name": "stdout",
     "output_type": "stream",
     "text": [
      "Optimization terminated successfully \n",
      "Portfolio Weighting is \n",
      " C-US       -0.2047\n",
      "GOOGL-US    0.1893\n",
      "INTC-US     0.0742\n",
      "NVDA-US    -0.0551\n",
      "EBAY-US     0.1051\n",
      "HD-US       0.0454\n",
      "IBM-US      0.0139\n",
      "JPM-US      0.2921\n",
      "WMT-US      0.3342\n",
      "CVX-US      0.2056\n",
      "dtype: float64 \n",
      "when weighted_return is  0.094 at standard deviation of  0.1049\n"
     ]
    }
   ],
   "source": [
    "opt_constraints = ({'type': 'eq', 'fun': lambda x: sum(x) - 0.9999999999}\n",
    "    # w adds up to 1, don't delete\n",
    "                                                                        )\n",
    "start1 = [0.1 for i in range(10)]\n",
    "guess=pd.Series(start1,index=mean_list_annual.index)\n",
    "portfolio_optimization_by_expected_return(target_function=Portfolio_std,\n",
    "                                          constraints=opt_constraints,\n",
    "                                          cov_matrix=covariance_matrix,\n",
    "                                          mean_list=mean_list_annual,\n",
    "                                          start_guess=guess,\n",
    "                                          )"
   ],
   "metadata": {
    "collapsed": false,
    "pycharm": {
     "name": "#%%\n"
    }
   }
  }
 ],
 "metadata": {
  "kernelspec": {
   "display_name": "Python 3",
   "language": "python",
   "name": "python3"
  },
  "language_info": {
   "codemirror_mode": {
    "name": "ipython",
    "version": 2
   },
   "file_extension": ".py",
   "mimetype": "text/x-python",
   "name": "python",
   "nbconvert_exporter": "python",
   "pygments_lexer": "ipython2",
   "version": "2.7.6"
  }
 },
 "nbformat": 4,
 "nbformat_minor": 0
}