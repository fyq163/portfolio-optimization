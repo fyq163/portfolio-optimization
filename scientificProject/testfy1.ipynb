{
 "cells": [
  {
   "cell_type": "code",
   "execution_count": 13,
   "outputs": [
    {
     "data": {
      "text/plain": "                   C     GOOGL      INTC      NVDA      EBAY\nDate                                                        \n2014-02-28  0.025300  0.029366  0.018617  0.176011  0.104699\n2014-03-31 -0.021180 -0.083198  0.042569 -0.025571 -0.060065\n2014-04-30  0.006513 -0.041080  0.033935  0.031267 -0.061731\n2014-05-30 -0.006889  0.068744  0.032405  0.033489 -0.021223\n2014-06-30 -0.009880  0.022776  0.131040 -0.024210 -0.013207\n2014-07-31  0.038641 -0.008757  0.096764 -0.056095  0.055334\n2014-08-29  0.056021  0.004849  0.037456  0.116306  0.050539\n2014-09-30  0.003291  0.010389 -0.002864 -0.051414  0.020360\n2014-10-31  0.033193 -0.034908 -0.023262  0.059079 -0.072930\n2014-11-28  0.008220 -0.033089  0.102566  0.077742  0.045333\n2014-12-31  0.002594 -0.033547 -0.025772 -0.043872  0.022595\n2015-01-30 -0.132141  0.012984 -0.089556 -0.042145 -0.055595\n2015-02-27  0.116507  0.046656  0.013544  0.153035  0.092642\n2015-03-31 -0.017169 -0.014095 -0.059549 -0.051451 -0.003972\n2015-04-30  0.034938 -0.010690  0.040934  0.060693  0.010055\n2015-05-29  0.015205 -0.006287  0.066463  0.001692  0.053210\n2015-06-30  0.021450 -0.009682 -0.117382 -0.091279 -0.018253\n2015-07-31  0.059190  0.217502 -0.048167 -0.007956  0.109109\n2015-08-31 -0.085186 -0.014722 -0.006037  0.131577 -0.035917\n2015-09-30 -0.072363 -0.014587  0.056062  0.096530 -0.098488\n2015-10-30  0.072758  0.155114  0.123424  0.150913  0.141571\n2015-11-30  0.017303  0.034527  0.034092  0.122226  0.060573\n2015-12-31 -0.043261  0.019873 -0.009203  0.039092 -0.071308\n2016-01-29 -0.176179 -0.021414 -0.099565 -0.111347 -0.146288\n2016-02-29 -0.087600 -0.057963 -0.037646  0.074599  0.014493\n2016-03-31  0.074646  0.063690  0.093275  0.136161  0.002521\n2016-04-29  0.109689 -0.072120 -0.063988 -0.002807  0.023889\n2016-05-31  0.006266  0.057877  0.052350  0.318279  0.001228\n2016-06-30 -0.089757 -0.060519  0.038303  0.006207 -0.042927\n2016-07-29  0.037250  0.124813  0.062805  0.214635  0.331055\n2016-08-31  0.089706 -0.001883  0.037362  0.076219  0.032092\n2016-09-30 -0.010683  0.017991  0.051825  0.117053  0.023010\n2016-10-31  0.040652  0.007263 -0.076291  0.038529 -0.133435\n2016-11-30  0.151113 -0.042005  0.002750  0.297602 -0.024553\n2016-12-30  0.053910  0.021356  0.045245  0.157701  0.067602\n2017-01-31 -0.060575  0.035005  0.015164  0.022859  0.072078\n2017-02-28  0.074350  0.030164 -0.009839 -0.069351  0.065033\n2017-03-31  0.000167  0.003397 -0.003591  0.073413 -0.009735\n2017-04-28 -0.009039  0.090493  0.002218 -0.042504 -0.004766\n2017-05-31  0.024019  0.067678  0.006254  0.385413  0.026639\n2017-06-30  0.104724 -0.058161 -0.065633  0.001455  0.018076\n2017-07-31  0.023475  0.017017  0.051274  0.124170  0.023196\n2017-08-31 -0.001468  0.010301 -0.003894  0.043542  0.011195\n2017-09-29  0.069234  0.019346  0.085828  0.055064  0.064489\n2017-10-31  0.010448  0.060921  0.194590  0.156850 -0.021321\n2017-11-30  0.031650  0.003030 -0.008537 -0.028818 -0.078905\n2017-12-29 -0.014437  0.016629  0.029438 -0.035923  0.088549\n2018-01-31  0.054697  0.122290  0.042894  0.270284  0.075252\n2018-02-28 -0.034102 -0.066231  0.030728 -0.014850  0.056185\n2018-03-29 -0.105842 -0.060494  0.056604 -0.043016 -0.061129\n2018-04-30  0.011407 -0.017895 -0.008833 -0.028887 -0.058648\n2018-05-31 -0.018542  0.079935  0.075431  0.122022 -0.004224\n2018-06-29  0.003449  0.026536 -0.099457 -0.060629 -0.038706\n2018-07-31  0.074268  0.086814 -0.032388  0.033601 -0.077496\n2018-08-31 -0.002881  0.003732  0.012988  0.146905  0.034679\n2018-09-28  0.007019 -0.020068 -0.023539  0.001211 -0.045940\n2018-10-31 -0.087538 -0.096514 -0.008670 -0.249769 -0.120836\n2018-11-30 -0.003479  0.017486  0.058513 -0.224038  0.028247\n2018-12-31 -0.196481 -0.058298 -0.048266 -0.183136 -0.059631",
      "text/html": "<div>\n<style scoped>\n    .dataframe tbody tr th:only-of-type {\n        vertical-align: middle;\n    }\n\n    .dataframe tbody tr th {\n        vertical-align: top;\n    }\n\n    .dataframe thead th {\n        text-align: right;\n    }\n</style>\n<table border=\"1\" class=\"dataframe\">\n  <thead>\n    <tr style=\"text-align: right;\">\n      <th></th>\n      <th>C</th>\n      <th>GOOGL</th>\n      <th>INTC</th>\n      <th>NVDA</th>\n      <th>EBAY</th>\n    </tr>\n    <tr>\n      <th>Date</th>\n      <th></th>\n      <th></th>\n      <th></th>\n      <th></th>\n      <th></th>\n    </tr>\n  </thead>\n  <tbody>\n    <tr>\n      <th>2014-02-28</th>\n      <td>0.025300</td>\n      <td>0.029366</td>\n      <td>0.018617</td>\n      <td>0.176011</td>\n      <td>0.104699</td>\n    </tr>\n    <tr>\n      <th>2014-03-31</th>\n      <td>-0.021180</td>\n      <td>-0.083198</td>\n      <td>0.042569</td>\n      <td>-0.025571</td>\n      <td>-0.060065</td>\n    </tr>\n    <tr>\n      <th>2014-04-30</th>\n      <td>0.006513</td>\n      <td>-0.041080</td>\n      <td>0.033935</td>\n      <td>0.031267</td>\n      <td>-0.061731</td>\n    </tr>\n    <tr>\n      <th>2014-05-30</th>\n      <td>-0.006889</td>\n      <td>0.068744</td>\n      <td>0.032405</td>\n      <td>0.033489</td>\n      <td>-0.021223</td>\n    </tr>\n    <tr>\n      <th>2014-06-30</th>\n      <td>-0.009880</td>\n      <td>0.022776</td>\n      <td>0.131040</td>\n      <td>-0.024210</td>\n      <td>-0.013207</td>\n    </tr>\n    <tr>\n      <th>2014-07-31</th>\n      <td>0.038641</td>\n      <td>-0.008757</td>\n      <td>0.096764</td>\n      <td>-0.056095</td>\n      <td>0.055334</td>\n    </tr>\n    <tr>\n      <th>2014-08-29</th>\n      <td>0.056021</td>\n      <td>0.004849</td>\n      <td>0.037456</td>\n      <td>0.116306</td>\n      <td>0.050539</td>\n    </tr>\n    <tr>\n      <th>2014-09-30</th>\n      <td>0.003291</td>\n      <td>0.010389</td>\n      <td>-0.002864</td>\n      <td>-0.051414</td>\n      <td>0.020360</td>\n    </tr>\n    <tr>\n      <th>2014-10-31</th>\n      <td>0.033193</td>\n      <td>-0.034908</td>\n      <td>-0.023262</td>\n      <td>0.059079</td>\n      <td>-0.072930</td>\n    </tr>\n    <tr>\n      <th>2014-11-28</th>\n      <td>0.008220</td>\n      <td>-0.033089</td>\n      <td>0.102566</td>\n      <td>0.077742</td>\n      <td>0.045333</td>\n    </tr>\n    <tr>\n      <th>2014-12-31</th>\n      <td>0.002594</td>\n      <td>-0.033547</td>\n      <td>-0.025772</td>\n      <td>-0.043872</td>\n      <td>0.022595</td>\n    </tr>\n    <tr>\n      <th>2015-01-30</th>\n      <td>-0.132141</td>\n      <td>0.012984</td>\n      <td>-0.089556</td>\n      <td>-0.042145</td>\n      <td>-0.055595</td>\n    </tr>\n    <tr>\n      <th>2015-02-27</th>\n      <td>0.116507</td>\n      <td>0.046656</td>\n      <td>0.013544</td>\n      <td>0.153035</td>\n      <td>0.092642</td>\n    </tr>\n    <tr>\n      <th>2015-03-31</th>\n      <td>-0.017169</td>\n      <td>-0.014095</td>\n      <td>-0.059549</td>\n      <td>-0.051451</td>\n      <td>-0.003972</td>\n    </tr>\n    <tr>\n      <th>2015-04-30</th>\n      <td>0.034938</td>\n      <td>-0.010690</td>\n      <td>0.040934</td>\n      <td>0.060693</td>\n      <td>0.010055</td>\n    </tr>\n    <tr>\n      <th>2015-05-29</th>\n      <td>0.015205</td>\n      <td>-0.006287</td>\n      <td>0.066463</td>\n      <td>0.001692</td>\n      <td>0.053210</td>\n    </tr>\n    <tr>\n      <th>2015-06-30</th>\n      <td>0.021450</td>\n      <td>-0.009682</td>\n      <td>-0.117382</td>\n      <td>-0.091279</td>\n      <td>-0.018253</td>\n    </tr>\n    <tr>\n      <th>2015-07-31</th>\n      <td>0.059190</td>\n      <td>0.217502</td>\n      <td>-0.048167</td>\n      <td>-0.007956</td>\n      <td>0.109109</td>\n    </tr>\n    <tr>\n      <th>2015-08-31</th>\n      <td>-0.085186</td>\n      <td>-0.014722</td>\n      <td>-0.006037</td>\n      <td>0.131577</td>\n      <td>-0.035917</td>\n    </tr>\n    <tr>\n      <th>2015-09-30</th>\n      <td>-0.072363</td>\n      <td>-0.014587</td>\n      <td>0.056062</td>\n      <td>0.096530</td>\n      <td>-0.098488</td>\n    </tr>\n    <tr>\n      <th>2015-10-30</th>\n      <td>0.072758</td>\n      <td>0.155114</td>\n      <td>0.123424</td>\n      <td>0.150913</td>\n      <td>0.141571</td>\n    </tr>\n    <tr>\n      <th>2015-11-30</th>\n      <td>0.017303</td>\n      <td>0.034527</td>\n      <td>0.034092</td>\n      <td>0.122226</td>\n      <td>0.060573</td>\n    </tr>\n    <tr>\n      <th>2015-12-31</th>\n      <td>-0.043261</td>\n      <td>0.019873</td>\n      <td>-0.009203</td>\n      <td>0.039092</td>\n      <td>-0.071308</td>\n    </tr>\n    <tr>\n      <th>2016-01-29</th>\n      <td>-0.176179</td>\n      <td>-0.021414</td>\n      <td>-0.099565</td>\n      <td>-0.111347</td>\n      <td>-0.146288</td>\n    </tr>\n    <tr>\n      <th>2016-02-29</th>\n      <td>-0.087600</td>\n      <td>-0.057963</td>\n      <td>-0.037646</td>\n      <td>0.074599</td>\n      <td>0.014493</td>\n    </tr>\n    <tr>\n      <th>2016-03-31</th>\n      <td>0.074646</td>\n      <td>0.063690</td>\n      <td>0.093275</td>\n      <td>0.136161</td>\n      <td>0.002521</td>\n    </tr>\n    <tr>\n      <th>2016-04-29</th>\n      <td>0.109689</td>\n      <td>-0.072120</td>\n      <td>-0.063988</td>\n      <td>-0.002807</td>\n      <td>0.023889</td>\n    </tr>\n    <tr>\n      <th>2016-05-31</th>\n      <td>0.006266</td>\n      <td>0.057877</td>\n      <td>0.052350</td>\n      <td>0.318279</td>\n      <td>0.001228</td>\n    </tr>\n    <tr>\n      <th>2016-06-30</th>\n      <td>-0.089757</td>\n      <td>-0.060519</td>\n      <td>0.038303</td>\n      <td>0.006207</td>\n      <td>-0.042927</td>\n    </tr>\n    <tr>\n      <th>2016-07-29</th>\n      <td>0.037250</td>\n      <td>0.124813</td>\n      <td>0.062805</td>\n      <td>0.214635</td>\n      <td>0.331055</td>\n    </tr>\n    <tr>\n      <th>2016-08-31</th>\n      <td>0.089706</td>\n      <td>-0.001883</td>\n      <td>0.037362</td>\n      <td>0.076219</td>\n      <td>0.032092</td>\n    </tr>\n    <tr>\n      <th>2016-09-30</th>\n      <td>-0.010683</td>\n      <td>0.017991</td>\n      <td>0.051825</td>\n      <td>0.117053</td>\n      <td>0.023010</td>\n    </tr>\n    <tr>\n      <th>2016-10-31</th>\n      <td>0.040652</td>\n      <td>0.007263</td>\n      <td>-0.076291</td>\n      <td>0.038529</td>\n      <td>-0.133435</td>\n    </tr>\n    <tr>\n      <th>2016-11-30</th>\n      <td>0.151113</td>\n      <td>-0.042005</td>\n      <td>0.002750</td>\n      <td>0.297602</td>\n      <td>-0.024553</td>\n    </tr>\n    <tr>\n      <th>2016-12-30</th>\n      <td>0.053910</td>\n      <td>0.021356</td>\n      <td>0.045245</td>\n      <td>0.157701</td>\n      <td>0.067602</td>\n    </tr>\n    <tr>\n      <th>2017-01-31</th>\n      <td>-0.060575</td>\n      <td>0.035005</td>\n      <td>0.015164</td>\n      <td>0.022859</td>\n      <td>0.072078</td>\n    </tr>\n    <tr>\n      <th>2017-02-28</th>\n      <td>0.074350</td>\n      <td>0.030164</td>\n      <td>-0.009839</td>\n      <td>-0.069351</td>\n      <td>0.065033</td>\n    </tr>\n    <tr>\n      <th>2017-03-31</th>\n      <td>0.000167</td>\n      <td>0.003397</td>\n      <td>-0.003591</td>\n      <td>0.073413</td>\n      <td>-0.009735</td>\n    </tr>\n    <tr>\n      <th>2017-04-28</th>\n      <td>-0.009039</td>\n      <td>0.090493</td>\n      <td>0.002218</td>\n      <td>-0.042504</td>\n      <td>-0.004766</td>\n    </tr>\n    <tr>\n      <th>2017-05-31</th>\n      <td>0.024019</td>\n      <td>0.067678</td>\n      <td>0.006254</td>\n      <td>0.385413</td>\n      <td>0.026639</td>\n    </tr>\n    <tr>\n      <th>2017-06-30</th>\n      <td>0.104724</td>\n      <td>-0.058161</td>\n      <td>-0.065633</td>\n      <td>0.001455</td>\n      <td>0.018076</td>\n    </tr>\n    <tr>\n      <th>2017-07-31</th>\n      <td>0.023475</td>\n      <td>0.017017</td>\n      <td>0.051274</td>\n      <td>0.124170</td>\n      <td>0.023196</td>\n    </tr>\n    <tr>\n      <th>2017-08-31</th>\n      <td>-0.001468</td>\n      <td>0.010301</td>\n      <td>-0.003894</td>\n      <td>0.043542</td>\n      <td>0.011195</td>\n    </tr>\n    <tr>\n      <th>2017-09-29</th>\n      <td>0.069234</td>\n      <td>0.019346</td>\n      <td>0.085828</td>\n      <td>0.055064</td>\n      <td>0.064489</td>\n    </tr>\n    <tr>\n      <th>2017-10-31</th>\n      <td>0.010448</td>\n      <td>0.060921</td>\n      <td>0.194590</td>\n      <td>0.156850</td>\n      <td>-0.021321</td>\n    </tr>\n    <tr>\n      <th>2017-11-30</th>\n      <td>0.031650</td>\n      <td>0.003030</td>\n      <td>-0.008537</td>\n      <td>-0.028818</td>\n      <td>-0.078905</td>\n    </tr>\n    <tr>\n      <th>2017-12-29</th>\n      <td>-0.014437</td>\n      <td>0.016629</td>\n      <td>0.029438</td>\n      <td>-0.035923</td>\n      <td>0.088549</td>\n    </tr>\n    <tr>\n      <th>2018-01-31</th>\n      <td>0.054697</td>\n      <td>0.122290</td>\n      <td>0.042894</td>\n      <td>0.270284</td>\n      <td>0.075252</td>\n    </tr>\n    <tr>\n      <th>2018-02-28</th>\n      <td>-0.034102</td>\n      <td>-0.066231</td>\n      <td>0.030728</td>\n      <td>-0.014850</td>\n      <td>0.056185</td>\n    </tr>\n    <tr>\n      <th>2018-03-29</th>\n      <td>-0.105842</td>\n      <td>-0.060494</td>\n      <td>0.056604</td>\n      <td>-0.043016</td>\n      <td>-0.061129</td>\n    </tr>\n    <tr>\n      <th>2018-04-30</th>\n      <td>0.011407</td>\n      <td>-0.017895</td>\n      <td>-0.008833</td>\n      <td>-0.028887</td>\n      <td>-0.058648</td>\n    </tr>\n    <tr>\n      <th>2018-05-31</th>\n      <td>-0.018542</td>\n      <td>0.079935</td>\n      <td>0.075431</td>\n      <td>0.122022</td>\n      <td>-0.004224</td>\n    </tr>\n    <tr>\n      <th>2018-06-29</th>\n      <td>0.003449</td>\n      <td>0.026536</td>\n      <td>-0.099457</td>\n      <td>-0.060629</td>\n      <td>-0.038706</td>\n    </tr>\n    <tr>\n      <th>2018-07-31</th>\n      <td>0.074268</td>\n      <td>0.086814</td>\n      <td>-0.032388</td>\n      <td>0.033601</td>\n      <td>-0.077496</td>\n    </tr>\n    <tr>\n      <th>2018-08-31</th>\n      <td>-0.002881</td>\n      <td>0.003732</td>\n      <td>0.012988</td>\n      <td>0.146905</td>\n      <td>0.034679</td>\n    </tr>\n    <tr>\n      <th>2018-09-28</th>\n      <td>0.007019</td>\n      <td>-0.020068</td>\n      <td>-0.023539</td>\n      <td>0.001211</td>\n      <td>-0.045940</td>\n    </tr>\n    <tr>\n      <th>2018-10-31</th>\n      <td>-0.087538</td>\n      <td>-0.096514</td>\n      <td>-0.008670</td>\n      <td>-0.249769</td>\n      <td>-0.120836</td>\n    </tr>\n    <tr>\n      <th>2018-11-30</th>\n      <td>-0.003479</td>\n      <td>0.017486</td>\n      <td>0.058513</td>\n      <td>-0.224038</td>\n      <td>0.028247</td>\n    </tr>\n    <tr>\n      <th>2018-12-31</th>\n      <td>-0.196481</td>\n      <td>-0.058298</td>\n      <td>-0.048266</td>\n      <td>-0.183136</td>\n      <td>-0.059631</td>\n    </tr>\n  </tbody>\n</table>\n</div>"
     },
     "execution_count": 13,
     "metadata": {},
     "output_type": "execute_result"
    }
   ],
   "source": [
    "import pandas as pd\n",
    "from numpy import array\n",
    "from math import sqrt\n",
    "import scipy\n",
    "from scipy.optimize import Bounds\n",
    "from pypfopt import EfficientFrontier\n",
    "from pypfopt import risk_models\n",
    "from pypfopt import expected_returns\n",
    "\n",
    "data_df = pd.read_csv('data/testy_data.csv', index_col=0,\n",
    "                      parse_dates=True).astype(float)/100\n",
    "data_df.drop(columns='SP50',inplace=True)\n",
    "data_df =data_df.loc[:,['C','GOOGL','INTC','NVDA','EBAY']]\n",
    "Sample_cov_matrix = data_df.cov()\n",
    "var_list_annual = data_df.var()*12\n",
    "mean_list_annual = data_df.mean()*12\n",
    "std_list_annual = data_df.std()*sqrt(12)\n",
    "std_list_annual = std_list_annual.loc[['C','GOOGL','INTC','NVDA','EBAY']]\n",
    "data_df"
   ],
   "metadata": {
    "collapsed": false,
    "pycharm": {
     "name": "#%%\n"
    }
   }
  },
  {
   "cell_type": "markdown",
   "source": [
    "Minimum Variance Frontier (MVF)\n",
    "minimum attainable standard deviation of annual returns for"
   ],
   "metadata": {
    "collapsed": false,
    "pycharm": {
     "name": "#%% md\n"
    }
   }
  },
  {
   "cell_type": "markdown",
   "source": [
    "portfolio return function\n",
    "portfolio std function"
   ],
   "metadata": {
    "collapsed": false,
    "pycharm": {
     "name": "#%% md\n"
    }
   }
  },
  {
   "cell_type": "code",
   "execution_count": 14,
   "outputs": [],
   "source": [
    "\n",
    "# W_array = array(W)\n",
    "\n",
    "def Portfolio_std(w,cov_matrix):\n",
    "    from numpy import array\n",
    "    from math import sqrt\n",
    "    w_np = array(w)\n",
    "    cov_np_array = array(cov_matrix)\n",
    "    P_variance = 0\n",
    "    for i in range(5):\n",
    "        for j in range(5):\n",
    "            P_variance += w_np[i]*w_np[j]*cov_np_array[i,j]\n",
    "    return sqrt(P_variance*12)\n"
   ],
   "metadata": {
    "collapsed": false,
    "pycharm": {
     "name": "#%%\n"
    }
   }
  },
  {
   "cell_type": "markdown",
   "source": [
    "constrains\n",
    "w add up to 1"
   ],
   "metadata": {
    "collapsed": false,
    "pycharm": {
     "name": "#%% md\n"
    }
   }
  },
  {
   "cell_type": "markdown",
   "source": [
    "the Minimum Variance Frontier (MVF)\n",
    "Constrain expected return from 0 to 30 step 5\n",
    "for i in range(0,7,1):\n",
    "    print(i*0.05)"
   ],
   "metadata": {
    "collapsed": false,
    "pycharm": {
     "name": "#%% md\n"
    }
   }
  },
  {
   "cell_type": "markdown",
   "source": [
    "minimize func = std\n",
    "constrains w add up to 1\n",
    "target return (0.1)- minus return (0.1) = 0\n",
    "w as input\n",
    "bound?"
   ],
   "metadata": {
    "collapsed": false,
    "pycharm": {
     "name": "#%% md\n"
    }
   }
  },
  {
   "cell_type": "code",
   "execution_count": 15,
   "outputs": [],
   "source": [
    "target_return = 0.100\n",
    "constains_expected_return = {'type': 'eq',\n",
    "                            'fun':lambda x:sum(mean_list_annual*x)-target_return}\n",
    "\n",
    "\n",
    "\n",
    "opt_constraints = ({'type': 'eq',\n",
    "                            'fun':lambda x:sum(x)-1}\n",
    "                       # w adds up to 1\n",
    "                       ,\n",
    "\n",
    "                       # constrain target return\n",
    "                       )\n",
    "\n",
    "\n",
    "\n",
    "def portfolio_optimization(targetfunction=Portfolio_std,\n",
    "                           mean_list = mean_list_annual,\n",
    "                           cov_matrix=Sample_cov_matrix,\n",
    "                           constraints=opt_constraints):\n",
    "    # give constrains\n",
    "\n",
    "    start_guess = pd.Series([0.0, 0.1, 0.2, 0.3, 0.4], index=['C', 'GOOGL', 'INTC', 'NVDA', 'EBAY'])\n",
    "\n",
    "    result = scipy.optimize.minimize(\\\n",
    "        lambda w:targetfunction(w, cov_matrix=cov_matrix),\n",
    "                                     x0=start_guess,\n",
    "                                    constraints = constraints,\n",
    "                                     bounds=Bounds(-1,1)\n",
    "\n",
    "                                     )\n",
    "    w_res = pd.Series(result.x,index=start_guess.index).round(4)\n",
    "    weighted_return = sum(mean_list*w_res)\n",
    "\n",
    "    print(result.message,'Portfolio Weighting is \\n',w_res,\n",
    "          '\\nwhen weighted_return is ',round(weighted_return,2),'at standard deviation of ',\n",
    "          round(result.fun,4))"
   ],
   "metadata": {
    "collapsed": false,
    "pycharm": {
     "name": "#%%\n"
    }
   }
  },
  {
   "cell_type": "code",
   "execution_count": 16,
   "outputs": [],
   "source": [
    "# portfolio_optimization(targetfunction=Portfolio_std,\n",
    "#                            constraints=opt_constraints)"
   ],
   "metadata": {
    "collapsed": false,
    "pycharm": {
     "name": "#%%\n"
    }
   }
  },
  {
   "cell_type": "code",
   "execution_count": 23,
   "outputs": [],
   "source": [
    "def negative_complete_return(args, mean_list=mean_list_annual, cov_matrix=Sample_cov_matrix, rf=0.03):\n",
    "    w=args[0:5]\n",
    "    a=args[-1]\n",
    "    portfolio_return = sum(mean_list * w)\n",
    "    R = portfolio_return - rf\n",
    "    portfolio_variance = pow(Portfolio_std(w, cov_matrix), 2)\n",
    "    y = R / a * portfolio_variance\n",
    "    complete_return = y * portfolio_return + (1 - y) * rf\n",
    "    return 0-complete_return"
   ],
   "metadata": {
    "collapsed": false,
    "pycharm": {
     "name": "#%%\n"
    }
   }
  },
  {
   "cell_type": "code",
   "execution_count": 28,
   "outputs": [
    {
     "data": {
      "text/plain": "-0.030311821040592414"
     },
     "execution_count": 28,
     "metadata": {},
     "output_type": "execute_result"
    }
   ],
   "source": [
    "x0_args = [0.2, 0.2, 0.2, 0.2, 0.2, 3.2]\n",
    "negative_complete_return(x0_args, mean_list_annual, Sample_cov_matrix)"
   ],
   "metadata": {
    "collapsed": false,
    "pycharm": {
     "name": "#%%\n"
    }
   }
  },
  {
   "cell_type": "code",
   "execution_count": null,
   "outputs": [],
   "source": [
    "print('')"
   ],
   "metadata": {
    "collapsed": false,
    "pycharm": {
     "name": "#%%\n"
    }
   }
  }
 ],
 "metadata": {
  "kernelspec": {
   "display_name": "Python 3",
   "language": "python",
   "name": "python3"
  },
  "language_info": {
   "codemirror_mode": {
    "name": "ipython",
    "version": 2
   },
   "file_extension": ".py",
   "mimetype": "text/x-python",
   "name": "python",
   "nbconvert_exporter": "python",
   "pygments_lexer": "ipython2",
   "version": "2.7.6"
  }
 },
 "nbformat": 4,
 "nbformat_minor": 0
}