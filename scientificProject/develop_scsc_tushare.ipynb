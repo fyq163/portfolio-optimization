{
 "cells": [
  {
   "cell_type": "code",
   "execution_count": 3,
   "outputs": [],
   "source": [
    "import xcsc_tushare as xc\n",
    "xc.set_token('46bdf7d82c47b052e98dd679b127213dda710cf6545ffdfd9f2e64d6')\n",
    "pro =xc.pro_api(env='prd',server='http://116.128.206.39:7172')\n",
    "\n",
    "data = pro.query('stock_basic', exchange='', list_status='L', fields='ts_code,symbol,name,list_date')"
   ],
   "metadata": {
    "collapsed": false,
    "pycharm": {
     "name": "#%%\n"
    }
   }
  },
  {
   "cell_type": "code",
   "execution_count": 4,
   "outputs": [
    {
     "data": {
      "text/plain": "        ts_code  symbol  name list_date\n0     430047.BJ  430047  诺思兰德  20201124\n1     430090.BJ  430090  同辉信息  20210809\n2     430139.BJ  430139  华岭股份  20221028\n3     430198.BJ  430198  微创光电  20200727\n4     430300.BJ  430300  辰光医疗  20221207\n...         ...     ...   ...       ...\n7630  A23038.SZ  A23038  矽递科技      None\n7631  A23039.SZ  A23039  华茂伟业      None\n7632  A23042.SZ  A23042  海康机器      None\n7633  A23044.SZ  A23044  潍柴雷沃      None\n7634  A23047.SZ  A23047  新亚电缆      None\n\n[7635 rows x 4 columns]",
      "text/html": "<div>\n<style scoped>\n    .dataframe tbody tr th:only-of-type {\n        vertical-align: middle;\n    }\n\n    .dataframe tbody tr th {\n        vertical-align: top;\n    }\n\n    .dataframe thead th {\n        text-align: right;\n    }\n</style>\n<table border=\"1\" class=\"dataframe\">\n  <thead>\n    <tr style=\"text-align: right;\">\n      <th></th>\n      <th>ts_code</th>\n      <th>symbol</th>\n      <th>name</th>\n      <th>list_date</th>\n    </tr>\n  </thead>\n  <tbody>\n    <tr>\n      <th>0</th>\n      <td>430047.BJ</td>\n      <td>430047</td>\n      <td>诺思兰德</td>\n      <td>20201124</td>\n    </tr>\n    <tr>\n      <th>1</th>\n      <td>430090.BJ</td>\n      <td>430090</td>\n      <td>同辉信息</td>\n      <td>20210809</td>\n    </tr>\n    <tr>\n      <th>2</th>\n      <td>430139.BJ</td>\n      <td>430139</td>\n      <td>华岭股份</td>\n      <td>20221028</td>\n    </tr>\n    <tr>\n      <th>3</th>\n      <td>430198.BJ</td>\n      <td>430198</td>\n      <td>微创光电</td>\n      <td>20200727</td>\n    </tr>\n    <tr>\n      <th>4</th>\n      <td>430300.BJ</td>\n      <td>430300</td>\n      <td>辰光医疗</td>\n      <td>20221207</td>\n    </tr>\n    <tr>\n      <th>...</th>\n      <td>...</td>\n      <td>...</td>\n      <td>...</td>\n      <td>...</td>\n    </tr>\n    <tr>\n      <th>7630</th>\n      <td>A23038.SZ</td>\n      <td>A23038</td>\n      <td>矽递科技</td>\n      <td>None</td>\n    </tr>\n    <tr>\n      <th>7631</th>\n      <td>A23039.SZ</td>\n      <td>A23039</td>\n      <td>华茂伟业</td>\n      <td>None</td>\n    </tr>\n    <tr>\n      <th>7632</th>\n      <td>A23042.SZ</td>\n      <td>A23042</td>\n      <td>海康机器</td>\n      <td>None</td>\n    </tr>\n    <tr>\n      <th>7633</th>\n      <td>A23044.SZ</td>\n      <td>A23044</td>\n      <td>潍柴雷沃</td>\n      <td>None</td>\n    </tr>\n    <tr>\n      <th>7634</th>\n      <td>A23047.SZ</td>\n      <td>A23047</td>\n      <td>新亚电缆</td>\n      <td>None</td>\n    </tr>\n  </tbody>\n</table>\n<p>7635 rows × 4 columns</p>\n</div>"
     },
     "execution_count": 4,
     "metadata": {},
     "output_type": "execute_result"
    }
   ],
   "source": [
    "data"
   ],
   "metadata": {
    "collapsed": false,
    "pycharm": {
     "name": "#%%\n"
    }
   }
  },
  {
   "cell_type": "code",
   "execution_count": null,
   "outputs": [],
   "source": [],
   "metadata": {
    "collapsed": false,
    "pycharm": {
     "name": "#%%\n"
    }
   }
  }
 ],
 "metadata": {
  "kernelspec": {
   "display_name": "Python 3",
   "language": "python",
   "name": "python3"
  },
  "language_info": {
   "codemirror_mode": {
    "name": "ipython",
    "version": 2
   },
   "file_extension": ".py",
   "mimetype": "text/x-python",
   "name": "python",
   "nbconvert_exporter": "python",
   "pygments_lexer": "ipython2",
   "version": "2.7.6"
  }
 },
 "nbformat": 4,
 "nbformat_minor": 0
}